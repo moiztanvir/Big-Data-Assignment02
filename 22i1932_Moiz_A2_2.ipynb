{
 "cells": [
  {
   "cell_type": "code",
   "execution_count": 4,
   "id": "6dc2e67e",
   "metadata": {},
   "outputs": [
    {
     "name": "stdout",
     "output_type": "stream",
     "text": [
      "Preprocessing and sampling complete. Sampled preprocessed dataset saved as 'data.csv'.\n"
     ]
    }
   ],
   "source": [
    "import pandas as pd\n",
    "import re\n",
    "import numpy as np\n",
    "\n",
    "# Load the dataset\n",
    "df = pd.read_csv(\"preprocessed_dataset.csv\")  # Replace \"path_to_your_dataset.csv\" with the actual path\n",
    "\n",
    "def clean_text(text):\n",
    "    # Convert text to lowercase\n",
    "    text = str(text).lower()\n",
    "    # Remove punctuation\n",
    "    text = re.sub(r'[^\\w\\s]', '', text)\n",
    "    # Remove extra whitespaces\n",
    "    text = re.sub(r'\\s+', ' ', text)\n",
    "    # Remove leading/trailing whitespaces\n",
    "    text = text.strip()\n",
    "    return text\n",
    "\n",
    "# Apply text cleaning to SECTION_TEXT column\n",
    "df['SECTION_TEXT'] = df['SECTION_TEXT'].apply(clean_text)\n",
    "\n",
    "sampled_df = df.dropna()\n",
    "print(sampled_df)\n",
    "sampled_df = sampled_df.sort_values(by='ARTICLE_ID')\n",
    "# Save the sampled and preprocessed data\n",
    "sampled_df.to_csv(\"data.csv\", index=False)\n",
    "\n",
    "print(\"Preprocessing and sampling complete. Sampled preprocessed dataset saved as 'data.csv'.\")\n"
   ]
  }
 ],
 "metadata": {
  "kernelspec": {
   "display_name": "Python 3 (ipykernel)",
   "language": "python",
   "name": "python3"
  },
  "language_info": {
   "codemirror_mode": {
    "name": "ipython",
    "version": 3
   },
   "file_extension": ".py",
   "mimetype": "text/x-python",
   "name": "python",
   "nbconvert_exporter": "python",
   "pygments_lexer": "ipython3",
   "version": "3.11.4"
  }
 },
 "nbformat": 4,
 "nbformat_minor": 5
}
